{
  "metadata": {
    "kernelspec": {
      "name": "python",
      "display_name": "Python (Pyodide)",
      "language": "python"
    },
    "language_info": {
      "codemirror_mode": {
        "name": "python",
        "version": 3
      },
      "file_extension": ".py",
      "mimetype": "text/x-python",
      "name": "python",
      "nbconvert_exporter": "python",
      "pygments_lexer": "ipython3",
      "version": "3.8"
    }
  },
  "nbformat_minor": 5,
  "nbformat": 4,
  "cells": [
    {
      "cell_type": "markdown",
      "source": "We are looking at the problem of creating an optimal revision schedule for students studying towards their exams (A-Levels, AS, GCSEs etc.)\n\n**Schedule Space:** The phrase we will use to describe the availability of time between now and the final exam date, the different subjects that can be studied in that time and the different activities that can be completed.\n\nWe can accurately determine how much effort is needed for a student to raise their score from their current score to their target score. All we need is their learning speed which is largely a stastistical approximation problem.\n\n**Permissable Effort Units:** A measurement used to describe the amount of effort a student requires for each exam to reach their target grade.\n\nWe want to achieve the permissable effort units required in the minimal amount of time. If this allows us padded time, then we can do aditional studying to maximize our confidence in subjects, using a mathematical approximation on priorities.\n\nHowever, optimizing the schedule space (when to do that effort and on what) is by no means a linear operation. When completing an action, achieved permissable effort units might change depending on: time to exam, loss of learning curve (how does retention of the subject fall after it's learned and how in each subsequent learning), number of hours spent revising already that day.\n\nIn other words, actions aren't homogenous, and we can't apply linear optimisation techniques to work out the optimal revision schedule.\n",
      "metadata": {},
      "id": "411b34e4-7f6b-4e0e-9f3b-7d003d499388"
    },
    {
      "cell_type": "markdown",
      "source": "If you think about the problem, an exhaustive search would be computationally infeasible\n\nExample:\nIf you have 400 hours (200 study segments) for Maths and 200 hours (100 study segments) for English.\nThe revision schedule consists of 60 possible days each with 6 segments = 360 study segments\nThis is an extremely large problem to solve in relation to pure permutations. Therefore, we will look at a stochastical optimisation approximation technique.",
      "metadata": {},
      "id": "210fcf39-846d-46c6-8157-090a285d143d"
    },
    {
      "cell_type": "markdown",
      "source": "# Simulated Annealing",
      "metadata": {},
      "id": "5a1fb9ab-7568-4525-bfea-fb3aefc62689"
    },
    {
      "cell_type": "markdown",
      "source": "We looked at multiple other optimisation techniques such as Particle Swarm Optimisation (PSO) and Genetic Algorithm. Genetic Algorithm is slightly too simple for our use case and PSO works better when the starting point is randomised across a feature space with little knowledge of where a useful optima might lie.\n\nIn our use case, we have a good starting point for our revision schedule so we decided to use simulated annealing.",
      "metadata": {},
      "id": "f84debd7-ac59-409b-948c-204441860948"
    },
    {
      "cell_type": "markdown",
      "source": "### State Representation",
      "metadata": {},
      "id": "27c19542-7bc1-448c-9887-e28c5fb39093"
    },
    {
      "cell_type": "markdown",
      "source": "The schedule space is the days from tomorrow (we don't include today for simplicity, but this is something that can be altered later) to the final exam date (presumably the student wants to stop studying after their final exam).\n\nEach day is split into 24 (8am-8pm) 30 minute components but we don't order these i.e. {'Maths' : 5, 'Chemistry' : 5} is the same as {'Chemistry' : 5, 'Maths' : 5}. However, each block of activity must last for a minimum of 2 hours to prevent excessive changing of subjects.\n\nEach activity will be assigned to a date, with a corresponding achieved PEU.\n\nStates can be modified by:\nIncreasing/decreasing lengths of activity\nand adding the decreases to other days\nMaintaining a minimal revision time of 2 hours",
      "metadata": {},
      "id": "ccae2337-118f-4b97-b02a-81958df11a79"
    },
    {
      "cell_type": "markdown",
      "source": "### Objective Function",
      "metadata": {},
      "id": "c11ac9df-7d5d-47ef-9134-fc45f1ca7856"
    },
    {
      "cell_type": "markdown",
      "source": "Our goal is to minimize the amount of hours it takes to achieve the required PEUs. We can calculate the required PEUs using the following code:",
      "metadata": {},
      "id": "88ef17df-f303-4548-aa60-fb062c07a1dd"
    },
    {
      "cell_type": "code",
      "source": "# Calculate the amount of required 'permissable effort units' to exert on each exam\ndef time_spend(subjects):\n    # The exertion required for each learning speed to raise a point\n    learning_speed_values = {\n    'very_fast': 1,\n    'fast': 2,\n    'medium': 3,\n    'slow': 4,\n    }\n\n    time_to_spend = {}\n    for subject in subjects:\n        learning_speed = learning_speed_values.get(subject['learning_speed'], 0)\n        time_to_spend[subject['subject_name']] = (subject['target_score'] - subject['current_score'])*learning_speed\n    \n    return time_to_spend",
      "metadata": {
        "trusted": true
      },
      "execution_count": 4,
      "outputs": [],
      "id": "a6718fc6-615a-4fa0-936a-cd245b41d8cb"
    },
    {
      "cell_type": "markdown",
      "source": "We can then calculate the achieved permissable units",
      "metadata": {},
      "id": "76e8b9f9-7715-423e-836c-371f414aa848"
    },
    {
      "cell_type": "code",
      "source": "# Calculate the achieved 'permissable effort units'\ndef calculate_achieved_peus(schedule, subjects):\n    required_permissable_effort_units = time_spend(subjects)\n    achieved_permissable_effort_units = {subject['subject_name']: 0 for subject in subjects}\n    \n    for dates,days in schedule.items():\n        full_study_that_day = 0\n        full_study_that_day = sum(hours for hours in days.values() if hours != 'Exam Day')\n            \n        for subject, hours in days.items():\n            if hours == 'Exam Day':\n                continue\n          \n            study_amount_deterioration=value_per_day[full_study_that_day]\n            for subject_take in subjects:\n                if subject_take['subject_name'] == subject:\n                    exam_date = subject_take['exam_date']\n            time_to_exam = (exam_date - dates).days\n            if time_to_exam > 30:\n                time_amount_deterioration = value_vs_time_to_exam['more_than_30_days']\n            elif time_to_exam > 15:\n                time_amount_deterioration = value_vs_time_to_exam['between_30_days_and_15_days']\n            elif time_to_exam > 7:\n                time_amount_deterioration = value_vs_time_to_exam['between_15_days_and_7_days']\n            else:\n                time_amount_deterioration = value_vs_time_to_exam['under_7_days']\n            achieved_permissable_effort_units[subject] += (hours * study_amount_deterioration * time_amount_deterioration)\n    \n    return achieved_permissable_effort_units\n            \n    ",
      "metadata": {
        "trusted": true
      },
      "execution_count": 20,
      "outputs": [],
      "id": "4445df47-00a7-4764-bef0-db196d21b564"
    },
    {
      "cell_type": "markdown",
      "source": "We will also need to define the actual objective function",
      "metadata": {},
      "id": "f2337d4d-a5e5-42db-96be-7976dd2fbf9c"
    },
    {
      "cell_type": "code",
      "source": "def objective_function(schedule,subjects):\n    achieved_permissable_effort_units = calculate_achieved_peus(schedule,subjects)\n    required_permissable_effort_units = time_spend(subjects)\n    for subject, hours in required_permissable_effort_units.items():\n        if hours > achieved_permissable_effort_units[subject]:\n            return math.inf #if the required PEUs aren't achieved\n    return sum(sum(hours for hours in days.values() if hours != 'Exam Day') for days in schedule.values()) #This is what we want to minimize",
      "metadata": {
        "trusted": true
      },
      "execution_count": 88,
      "outputs": [],
      "id": "f240e59b-2583-427b-8062-5cb365220b28"
    },
    {
      "cell_type": "markdown",
      "source": "### Initial Solution",
      "metadata": {},
      "id": "ccb85cb2-80fd-4975-a7c7-1f19906dd997"
    },
    {
      "cell_type": "code",
      "source": "from datetime import datetime, timedelta\n\nimport math\nimport pandas as pd\n\n\nmaximum_revision_time = 5 # Our assumption on the maximum number of hours revision\n\ndef initial_solution(subjects):\n    #Initialize initial solution\n    initial_solution = {}\n    # Extract the exam dates\n    exam_dates = {}\n    for subject in subjects:\n        exam_dates[subject['subject_name']] = subject['exam_date']\n    \n    # Main loop to add hours in while achieved PEUs (through the schedule) are less than the required PEUs\n    required_peus = time_spend(subjects)\n    achieved_peus = calculate_achieved_peus(initial_solution,subjects)\n    for subject in subjects:\n        date = exam_dates[subject['subject_name']] - timedelta(days=1) #Initialize date on first day before the exam date\n        current_date = datetime.now()\n        #1st pass attempt at adding only 5 hours\n        while required_peus[subject['subject_name']] > achieved_peus[subject['subject_name']] and date > current_date:\n            if date not in exam_dates.values(): #No study on exam days\n                if date not in initial_solution:\n                    initial_solution[date] = {}\n                \n                if required_peus[subject['subject_name']] - achieved_peus[subject['subject_name']] >= maximum_revision_time:    \n                    initial_solution[date][subject['subject_name']] = maximum_revision_time\n                elif required_peus[subject['subject_name']] - achieved_peus[subject['subject_name']] < maximum_revision_time: \n                    initial_solution[date][subject['subject_name']] = math.ceil(required_peus[subject['subject_name']] - achieved_peus[subject['subject_name']])\n            achieved_peus = calculate_achieved_peus(initial_solution,subjects)\n            date -= timedelta(days=1)\n    \n    #2nd pass attempt adding remaining amounts\n    for subject in subjects:\n        if achieved_peus[subject['subject_name']] < required_peus[subject['subject_name']]:\n            date = exam_dates[subject['subject_name']] - timedelta(days=1)\n            while required_peus[subject['subject_name']] > achieved_peus[subject['subject_name']] and date > current_date:\n                if date not in exam_dates.values():\n                    if date not in initial_solution:\n                        initial_solution[date] = {}\n                    if sum(initial_solution[date].values()) < 12:\n                        if sum(initial_solution[date].values()) < 11:  # Check if the sum of hours is less than 12\n                            remaining_hours = 11 - sum(initial_solution[date].values())\n                            required_hours = math.ceil(required_peus[subject['subject_name']] - achieved_peus[subject['subject_name']])\n                            if subject['subject_name'] not in initial_solution[date]:\n                                initial_solution[date][subject['subject_name']] = 0\n                            initial_solution[date][subject['subject_name']] += min(remaining_hours, required_hours)\n                achieved_peus = calculate_achieved_peus(initial_solution,subjects)\n                date -= timedelta(days=1)\n                \n               \n    for subject, exam_date in exam_dates.items():\n        if exam_date not in initial_solution:\n            initial_solution[exam_date] = {}\n        initial_solution[exam_date][subject] = 'Exam Day'\n        \n    start_date = min(initial_solution.keys())\n    end_date = max(initial_solution.keys())\n    \n    date_range = pd.date_range(start=start_date, end=end_date)\n    \n    datetime_range = date_range.to_pydatetime()\n\n    for date in datetime_range:\n        if date not in initial_solution:\n            initial_solution[date] = {}\n            for subject in subjects:\n                if subject['exam_date'] > date:\n                    \n                    initial_solution[date][subject['subject_name']] = 2\n                    \n    #return (calculate_achieved_peus(initial_solution,subjects),required_peus)\n    \n    return {k: initial_solution[k] for k in sorted(initial_solution)}",
      "metadata": {
        "trusted": true
      },
      "execution_count": 22,
      "outputs": [],
      "id": "ac8ce02f-7df8-4d54-85d3-cad82e00f0e2"
    },
    {
      "cell_type": "markdown",
      "source": "### Neighbourhood Function",
      "metadata": {},
      "id": "17e190f4-a615-4879-a600-cd4038c0d96e"
    },
    {
      "cell_type": "code",
      "source": "def get_exam_date(subjects, subject_name):\n    for subject in subjects:\n        if subject['subject_name'] == subject_name:\n            return subject['exam_date']\n    # Return None if the subject_name is not found in the list\n    return None",
      "metadata": {
        "trusted": true
      },
      "execution_count": 23,
      "outputs": [],
      "id": "10f9de92-fe85-4f65-b2ef-5f8640c054c5"
    },
    {
      "cell_type": "code",
      "source": "# Function to check if a given day is an exam day\ndef is_exam_day(schedule, day):\n    for subjects in schedule.get(day, {}).values():\n        if subjects == 'Exam Day':\n            return True\n    return False",
      "metadata": {
        "trusted": true
      },
      "execution_count": 24,
      "outputs": [],
      "id": "1d0aeb30-07d4-4479-9f9c-a9ad940fbce6"
    },
    {
      "cell_type": "code",
      "source": "def move_function(schedule):\n    # Get the list of dates in the schedule\n    dates = [day for day in schedule.keys() if not is_exam_day(schedule, day)]\n    \n    # Shuffle the dates randomly\n    random.shuffle(dates)\n    \n    returned_schedule=0\n    returned_resp=0\n        \n    for date in dates:\n        # Check if the date is not an exam day and has study hours\n        if date not in schedule or sum(schedule[date].values()) == 0:\n            continue\n        \n        # Get the subjects studied on the current date\n        subjects_studied = list(schedule[date].keys())\n        \n        # Choose a random subject from the current date\n        selected_subject = random.choice(subjects_studied)\n        \n        # Get the study hours for the selected subject on the current date\n        study_hours = schedule[date][selected_subject]\n        \n        if study_hours == 0:\n            continue\n        \n        # Choose a random number of hours to move to another date\n        hours_to_move = random.randint(1, study_hours)\n        \n        # Get the exam date\n        exam_date = get_exam_date(subjects,selected_subject)\n        \n        # Get a list of possible destination dates before the exam day\n        destination_dates = [d for d in dates if d < exam_date]\n        \n        # Shuffle the destination dates randomly\n        random.shuffle(destination_dates)\n        \n        # Find the first destination date where the total study hours won't exceed 12\n        destination_date = None\n        for dest_date in destination_dates:\n            if dest_date in schedule:\n                total_hours_on_dest_date = sum(schedule[dest_date].values())\n            else:\n                total_hours_on_dest_date = 0\n            \n            if total_hours_on_dest_date + hours_to_move <= 12:\n                destination_date = dest_date\n                break\n        \n        # If a valid destination date is found, move the hours\n        if destination_date is not None:\n            # Remove the hours from the current date\n            schedule[date][selected_subject] -= hours_to_move\n            \n            # Add the hours to the destination date\n            if destination_date not in schedule:\n                schedule[destination_date] = {}\n            if selected_subject not in schedule[destination_date]:\n                schedule[destination_date][selected_subject] = 0\n            schedule[destination_date][selected_subject] += hours_to_move\n            \n            returned_resp=f\"Moved {hours_to_move} hours from {selected_subject} on {date} to {destination_date}.\"\n            returned_schedule=schedule\n            # Exit the loop as we have successfully moved the hours\n            break\n        else:\n            continue\n    \n    if returned_resp==0:\n        returned_resp= f\"Could not find a valid destination date to move hours\"\n    return returned_schedule\n\n        ",
      "metadata": {
        "trusted": true
      },
      "execution_count": 102,
      "outputs": [],
      "id": "823ab9af-918d-412b-a99b-090079507173"
    },
    {
      "cell_type": "code",
      "source": "def add_function(schedule):\n    \n    # Get the list of dates and we can look for any date from now to the day before final exam\n    available_days = [datetime(datetime.now().date().year, (datetime.now() + timedelta(days=i)).date().month, (datetime.now() + timedelta(days=i)).date().day) for i in range((max(schedule.keys()) - datetime.now()).days+1) if not is_exam_day(schedule, datetime(datetime.now().date().year, (datetime.now() + timedelta(days=i)).date().month, (datetime.now() + timedelta(days=i)).date().day))]\n    \n    # Shuffle the dates randomly\n    random.shuffle(available_days)\n    \n    for date in available_days:\n        # Get the current hours on the random date\n        if date not in schedule:\n            current_hours=0\n        else:\n            current_hours = sum(schedule[date].values())\n        \n        # Continue if date is full\n        if current_hours >= 12:\n            continue\n            \n        # Get the subjects studied on the current date\n        subjects_studied = [subject['subject_name'] for subject in subjects]\n        \n        random.shuffle(subjects_studied)\n            \n        # Generate a random number of study hours (between 1 and 12)\n        if current_hours == 0:\n            random_hours = random.randint(1, 12)\n        else:\n            random_hours = random.randint(1, current_hours)\n        \n        for subject in subjects_studied:\n            # Get the exam date for the selected subject\n            exam_date = get_exam_date(subjects,subject)\n            if date > exam_date:\n                continue\n            else:\n                if current_hours + random_hours > 12:\n                    continue\n                if date not in schedule:\n                    schedule[date] = {}\n                if subject not in schedule[date]:\n                    schedule[date][subject] = random_hours\n                    resp=f\"Added {random_hours} to {subject} on {date}\"\n                    return schedule\n                else:\n                    schedule[date][subject] += random_hours\n                    resp=f\"Added {random_hours} to {subject} on {date}\"\n                    return schedule",
      "metadata": {
        "trusted": true
      },
      "execution_count": 62,
      "outputs": [],
      "id": "349b9547-0b09-492a-ab9d-4e685c592a35"
    },
    {
      "cell_type": "code",
      "source": "def minus_function(schedule):\n    \n    # Get the list of dates in the schedule\n    dates = [day for day in schedule.keys() if not is_exam_day(schedule, day)]\n    \n    # Shuffle the dates randomly\n    random.shuffle(dates)\n    \n    for d in dates:\n    \n        # Choose a random day from the available days\n        date = random.choice(dates)\n               \n        # Get the subjects studied on the current date\n        subjects_studied = list(schedule[date].keys())\n        \n        # Choose a random subject from the current date\n        selected_subject = random.choice(subjects_studied)\n        \n        # Get the study hours for the selected subject on the current date\n        study_hours = schedule[date][selected_subject]\n        \n        if study_hours == 0:\n            continue\n        else:\n            # Choose a random number of hours to minus\n            hours_to_minus = random.randint(1, study_hours)\n\n            #Minus the hours\n            schedule[date][selected_subject] -= hours_to_minus\n\n            resp=f\"Minused {hours_to_minus} from {date} for {selected_subject}\"\n            break\n\n    return schedule",
      "metadata": {
        "trusted": true
      },
      "execution_count": 51,
      "outputs": [],
      "id": "ea952838-a9db-4f0e-b3de-7acb952662d3"
    },
    {
      "cell_type": "code",
      "source": "def swap_function(schedule):\n    \n    subject_list = list(subject for subjects_data in schedule.values() for subject in subjects_data)\n    random.shuffle(subject_list)\n    \n    returned_resp = 0\n    returned_schedule = 0\n    \n    subject_list1 = list(set(subject_list))\n    \n    for subject1 in subject_list1:\n        exam_date1 = get_exam_date(subjects, subject1)\n        available_days1 = [day for day in schedule.keys() if day < exam_date1 and not is_exam_day(schedule, day)]\n        \n        if not available_days1:\n            continue\n            \n        subject_list2 = [subject for subject in subject_list if subject != subject1]\n\n\n        for subject2 in subject_list2:\n            exam_date2 = get_exam_date(subjects, subject2)\n            available_days2 = [day for day in schedule.keys() if day < exam_date2 and not is_exam_day(schedule, day)]\n    \n            if not available_days2:\n                continue\n            \n            available_days = [date for date in available_days1 if date in available_days2]\n            \n            random.shuffle(available_days)\n\n            for d1 in available_days:\n                if subject1 in schedule[d1] and schedule[d1][subject1] == 0 or subject1 not in schedule[d1]:\n                    continue\n                \n                available_days3 = [date for date in available_days if date != d1]\n                \n                for d2 in available_days3:\n                    if subject2 in schedule[d2] and schedule[d2][subject2] == 0 or subject2 not in schedule[d2]:\n                        continue\n                        \n    \n                    random_hours_to_swap = random.randint(1, schedule[d1][subject1])        \n    \n                    # Check if the second subject has enough study hours to swap\n                    if random_hours_to_swap > schedule[d2][subject2]:\n                        # Reduce the amount to be swapped to avoid negative values\n                        random_hours_to_swap = schedule[d2][subject2]\n\n                    # Reduce study hours\n                    if subject1 in schedule[d1]:\n                        schedule[d1][subject1] -= random_hours_to_swap\n                        if schedule[d1][subject1] == 0:\n                            del schedule[d1][subject1]\n                            \n                    if subject2 in schedule[d2]:\n                        schedule[d2][subject2] -= random_hours_to_swap\n                        if schedule[d2][subject2] == 0:\n                            del schedule[d2][subject2]\n\n                    if subject1 not in schedule[d2]:\n                        schedule[d2][subject1] = random_hours_to_swap\n                    else:\n                        schedule[d2][subject1] += random_hours_to_swap\n                        \n                    if subject2 not in schedule[d1]:\n                        schedule[d1][subject2] = random_hours_to_swap\n                    else:\n                        schedule[d1][subject2] += random_hours_to_swap\n\n                    returned_resp = f\"Swapped {random_hours_to_swap} from {subject1} on {d1} to {subject2} on {d2}\"\n                    break\n                break\n            break\n        break\n    \n    return schedule",
      "metadata": {
        "trusted": true
      },
      "execution_count": 52,
      "outputs": [],
      "id": "957d400f-83e9-4881-abf7-38c40213cade"
    },
    {
      "cell_type": "code",
      "source": "import random\n\ndef neighbourhood_function(schedule):\n    random_number = random.random()\n    if random_number < 0.25:\n        return move_function(schedule) # Moving study hours from one day to another\n    if random_number >= 0.25 and random_number < 0.65:\n        return add_function(schedule) # Adding hours for a subject\n    if random_number >= 0.65 and random_number < 0.75:\n        return minus_function(schedule) # Reducing hours for a subject\n    else:\n        return swap_function(schedule) # Swapping subjects between days",
      "metadata": {
        "trusted": true
      },
      "execution_count": 109,
      "outputs": [],
      "id": "5b765534-8632-4213-9f0a-02a892631e93"
    },
    {
      "cell_type": "code",
      "source": "def simulated_annealing(subjects, n_iterations, step_size, temp):\n    # generate an initial starting point\n    initial = initial_solution(subjects)\n    # evaluate the initial starting point\n    initial_eval = objective_function(initial, subjects)\n    # initialize currents and bes\n    curr, curr_eval = initial, initial_eval\n    best, best_eval = initial, initial_eval\n    \n    # run the algorithm\n    for i in range(n_iterations):\n        candidate = curr\n        # take a step\n        for j in range(step_size):\n            candidate = neighbourhood_function(candidate)\n        # evaluate candidate\n        candidate_eval = objective_function(candidate, subjects)\n        # check for new best solution\n        if candidate_eval < best_eval:\n            # store new best point\n            best, best_eval = candidate, candidate_eval\n            # report progress\n            print(best_eval)\n        # difference between candidate and current point evaluation\n        diff = candidate_eval - curr_eval\n        # calculate temperature for current epoch\n        t = temp / float(i + 1)\n        # calculate metropolis acceptance criterion\n        metropolis = math.exp(-diff / t)\n        # check if we should keep the new point\n        if diff < 0 or random.random() < metropolis:\n            # store the new current point\n            curr, curr_eval = candidate, candidate_eval\n    return [best, best_eval]",
      "metadata": {
        "trusted": true
      },
      "execution_count": 110,
      "outputs": [],
      "id": "045233a2-f963-4cd8-82b4-201ab6fb20c6"
    },
    {
      "cell_type": "code",
      "source": "value_per_day = {\n    0 : 1,\n    1 : 1,\n    2 : 1,\n    3 : 1,\n    4 : 1,\n    5 : 1,\n    6 : 0.95,\n    7 : 0.9,\n    8 : 0.85,\n    9 : 0.8,\n    10 : 0.75,\n    11 : 0.7,\n    12 : 0.65,\n    13 : 0.6 # At this point it starts to become deteriorating to study more\n}",
      "metadata": {
        "trusted": true
      },
      "execution_count": 66,
      "outputs": [],
      "id": "714a7640-dcda-482f-9a4b-6e794ca7236f"
    },
    {
      "cell_type": "code",
      "source": "value_vs_time_to_exam = {\n   'more_than_30_days' : 0.5,\n   'between_30_days_and_15_days' : 0.7,\n   'between_15_days_and_7_days' : 0.8,\n   'under_7_days' : 1 \n} # Assumption on how the value of the study changes depending on the time to the exam",
      "metadata": {
        "trusted": true
      },
      "execution_count": 32,
      "outputs": [],
      "id": "6917edcd-d5d5-434e-8749-a6930a9eb8f4"
    },
    {
      "cell_type": "code",
      "source": "subjects = [\n    {'subject_name' : 'Maths',\n     'current_score' : 67,\n     'target_score' : 90,\n     'learning_speed' : 'fast',\n     'exam_date' : datetime(2023,10,28)\n    },\n    {'subject_name' : 'Chemistry',\n     'current_score' : 54,\n     'target_score' : 80,\n     'learning_speed' : 'slow',\n     'exam_date' : datetime(2023,9,12)\n    },\n    {'subject_name' : 'Physics',\n     'current_score' : 72,\n     'target_score' : 80,\n     'learning_speed' : 'medium',\n     'exam_date' : datetime(2023,9,10)\n    },\n]",
      "metadata": {
        "trusted": true
      },
      "execution_count": 33,
      "outputs": [],
      "id": "d18902fb-840f-4b96-add2-16601cd946c4"
    },
    {
      "cell_type": "code",
      "source": "simulated_annealing(subjects, 500, 2, 6)",
      "metadata": {
        "trusted": true
      },
      "execution_count": 112,
      "outputs": [
        {
          "name": "stdout",
          "text": "300\n",
          "output_type": "stream"
        },
        {
          "execution_count": 112,
          "output_type": "execute_result",
          "data": {
            "text/plain": "[{datetime.datetime(2023, 8, 15, 0, 0): {'Chemistry': 8, 'Physics': 4},\n  datetime.datetime(2023, 8, 16, 0, 0): {'Physics': 9, 'Chemistry': 3},\n  datetime.datetime(2023, 8, 17, 0, 0): {'Chemistry': 5,\n   'Physics': 6,\n   'Maths': 1},\n  datetime.datetime(2023, 8, 18, 0, 0): {'Physics': 11, 'Maths': 1},\n  datetime.datetime(2023, 8, 19, 0, 0): {'Maths': 1, 'Chemistry': 11},\n  datetime.datetime(2023, 8, 20, 0, 0): {'Chemistry': 5, 'Maths': 7},\n  datetime.datetime(2023, 8, 21, 0, 0): {'Chemistry': 10, 'Physics': 2},\n  datetime.datetime(2023, 8, 22, 0, 0): {'Maths': 7,\n   'Chemistry': 4,\n   'Physics': 1},\n  datetime.datetime(2023, 8, 23, 0, 0): {'Chemistry': 12},\n  datetime.datetime(2023, 8, 24, 0, 0): {'Physics': 6, 'Chemistry': 6},\n  datetime.datetime(2023, 8, 25, 0, 0): {'Maths': 12},\n  datetime.datetime(2023, 8, 26, 0, 0): {'Chemistry': 9, 'Maths': 3},\n  datetime.datetime(2023, 8, 27, 0, 0): {'Physics': 3, 'Maths': 9},\n  datetime.datetime(2023, 8, 28, 0, 0): {'Chemistry': 7,\n   'Physics': 1,\n   'Maths': 4},\n  datetime.datetime(2023, 8, 29, 0, 0): {'Chemistry': 12},\n  datetime.datetime(2023, 8, 30, 0, 0): {'Physics': 1,\n   'Chemistry': 9,\n   'Maths': 1},\n  datetime.datetime(2023, 8, 31, 0, 0): {'Chemistry': 4,\n   'Physics': 0,\n   'Maths': 8},\n  datetime.datetime(2023, 9, 1, 0, 0): {'Chemistry': 12},\n  datetime.datetime(2023, 9, 2, 0, 0): {'Physics': 3,\n   'Maths': 7,\n   'Chemistry': 1},\n  datetime.datetime(2023, 9, 3, 0, 0): {'Physics': 9, 'Chemistry': 0},\n  datetime.datetime(2023, 9, 4, 0, 0): {'Chemistry': 12},\n  datetime.datetime(2023, 9, 5, 0, 0): {'Maths': 11, 'Physics': 0},\n  datetime.datetime(2023, 9, 6, 0, 0): {'Maths': 12},\n  datetime.datetime(2023, 9, 7, 0, 0): {'Physics': 6,\n   'Chemistry': 5,\n   'Maths': 0},\n  datetime.datetime(2023, 9, 8, 0, 0): {'Maths': 9,\n   'Physics': 2,\n   'Chemistry': 1},\n  datetime.datetime(2023, 9, 9, 0, 0): {'Chemistry': 10,\n   'Physics': 1,\n   'Maths': 1},\n  datetime.datetime(2023, 9, 10, 0, 0): {'Physics': 'Exam Day'},\n  datetime.datetime(2023, 9, 11, 0, 0): {'Chemistry': 12},\n  datetime.datetime(2023, 9, 12, 0, 0): {'Chemistry': 'Exam Day'},\n  datetime.datetime(2023, 9, 13, 0, 0): {'Maths': 11},\n  datetime.datetime(2023, 9, 14, 0, 0): {'Maths': 12},\n  datetime.datetime(2023, 9, 15, 0, 0): {'Maths': 12},\n  datetime.datetime(2023, 9, 16, 0, 0): {'Maths': 12},\n  datetime.datetime(2023, 9, 17, 0, 0): {'Maths': 12},\n  datetime.datetime(2023, 9, 18, 0, 0): {'Maths': 12},\n  datetime.datetime(2023, 9, 19, 0, 0): {'Maths': 11},\n  datetime.datetime(2023, 9, 20, 0, 0): {'Maths': 12},\n  datetime.datetime(2023, 9, 21, 0, 0): {'Maths': 12},\n  datetime.datetime(2023, 9, 22, 0, 0): {'Maths': 12},\n  datetime.datetime(2023, 9, 23, 0, 0): {'Maths': 12},\n  datetime.datetime(2023, 9, 24, 0, 0): {'Maths': 12},\n  datetime.datetime(2023, 9, 25, 0, 0): {'Maths': 12},\n  datetime.datetime(2023, 9, 26, 0, 0): {'Maths': 9},\n  datetime.datetime(2023, 9, 27, 0, 0): {'Maths': 12},\n  datetime.datetime(2023, 9, 28, 0, 0): {'Maths': 12},\n  datetime.datetime(2023, 9, 29, 0, 0): {'Maths': 12},\n  datetime.datetime(2023, 9, 30, 0, 0): {'Maths': 12},\n  datetime.datetime(2023, 10, 1, 0, 0): {'Maths': 12},\n  datetime.datetime(2023, 10, 2, 0, 0): {'Maths': 12},\n  datetime.datetime(2023, 10, 3, 0, 0): {'Maths': 12},\n  datetime.datetime(2023, 10, 4, 0, 0): {'Maths': 11},\n  datetime.datetime(2023, 10, 5, 0, 0): {'Maths': 12},\n  datetime.datetime(2023, 10, 6, 0, 0): {'Maths': 11},\n  datetime.datetime(2023, 10, 7, 0, 0): {'Maths': 11},\n  datetime.datetime(2023, 10, 8, 0, 0): {'Maths': 12},\n  datetime.datetime(2023, 10, 9, 0, 0): {'Maths': 12},\n  datetime.datetime(2023, 10, 10, 0, 0): {'Maths': 12},\n  datetime.datetime(2023, 10, 11, 0, 0): {'Maths': 12},\n  datetime.datetime(2023, 10, 12, 0, 0): {'Maths': 12},\n  datetime.datetime(2023, 10, 13, 0, 0): {'Maths': 12},\n  datetime.datetime(2023, 10, 14, 0, 0): {'Maths': 11},\n  datetime.datetime(2023, 10, 15, 0, 0): {'Maths': 11},\n  datetime.datetime(2023, 10, 16, 0, 0): {'Maths': 11},\n  datetime.datetime(2023, 10, 17, 0, 0): {'Maths': 12},\n  datetime.datetime(2023, 10, 18, 0, 0): {'Maths': 12},\n  datetime.datetime(2023, 10, 19, 0, 0): {'Maths': 12},\n  datetime.datetime(2023, 10, 20, 0, 0): {'Maths': 12},\n  datetime.datetime(2023, 10, 21, 0, 0): {'Maths': 12},\n  datetime.datetime(2023, 10, 22, 0, 0): {'Maths': 12},\n  datetime.datetime(2023, 10, 23, 0, 0): {'Maths': 12},\n  datetime.datetime(2023, 10, 24, 0, 0): {'Maths': 12},\n  datetime.datetime(2023, 10, 25, 0, 0): {'Maths': 11},\n  datetime.datetime(2023, 10, 26, 0, 0): {'Maths': 12},\n  datetime.datetime(2023, 10, 27, 0, 0): {'Maths': 12},\n  datetime.datetime(2023, 10, 28, 0, 0): {'Maths': 'Exam Day'},\n  datetime.datetime(2023, 8, 14, 0, 0): {'Maths': 5, 'Chemistry': 7}},\n 300]"
          },
          "metadata": {}
        }
      ],
      "id": "7ba021f6-b71f-4863-acbe-07b9e4756264"
    },
    {
      "cell_type": "code",
      "source": "calculate_achieved_peus(schedule,subjects)",
      "metadata": {
        "trusted": true
      },
      "execution_count": 82,
      "outputs": [
        {
          "execution_count": 82,
          "output_type": "execute_result",
          "data": {
            "text/plain": "{'Maths': 150.28000000000003,\n 'Chemistry': 108.39000000000001,\n 'Physics': 24.549999999999997}"
          },
          "metadata": {}
        }
      ],
      "id": "50e41d72-a905-469b-ba2d-dd6be6af1251"
    },
    {
      "cell_type": "code",
      "source": "time_spend(subjects)",
      "metadata": {
        "trusted": true
      },
      "execution_count": 83,
      "outputs": [
        {
          "execution_count": 83,
          "output_type": "execute_result",
          "data": {
            "text/plain": "{'Maths': 46, 'Chemistry': 104, 'Physics': 24}"
          },
          "metadata": {}
        }
      ],
      "id": "e2b18966-6c91-47ef-9976-ed19eb3d78b2"
    },
    {
      "cell_type": "code",
      "source": "schedule = {datetime(2023, 8, 15, 0, 0): {'Chemistry': 4, 'Maths': 5},\n  datetime(2023, 8, 16, 0, 0): {'Chemistry': 11, 'Physics': 1},\n  datetime(2023, 8, 17, 0, 0): {'Chemistry': 1, 'Physics': 4},\n  datetime(2023, 8, 18, 0, 0): {'Chemistry': 5},\n  datetime(2023, 8, 19, 0, 0): {'Chemistry': 8, 'Maths': 4},\n  datetime(2023, 8, 20, 0, 0): {'Chemistry': 9},\n  datetime(2023, 8, 21, 0, 0): {'Chemistry': 1, 'Maths': 4},\n  datetime(2023, 8, 22, 0, 0): {'Chemistry': 9},\n  datetime(2023, 8, 23, 0, 0): {'Physics': 5,\n   'Maths': 1,\n   'Chemistry': 4},\n  datetime(2023, 8, 24, 0, 0): {'Chemistry': 8},\n  datetime(2023, 8, 25, 0, 0): {'Chemistry': 2, 'Physics': 3},\n  datetime(2023, 8, 26, 0, 0): {'Chemistry': 7},\n  datetime(2023, 8, 27, 0, 0): {'Chemistry': 3, 'Maths': 2},\n  datetime(2023, 8, 28, 0, 0): {'Chemistry': 2, 'Physics': 2},\n  datetime(2023, 8, 29, 0, 0): {'Chemistry': 4, 'Maths': 1},\n  datetime(2023, 8, 30, 0, 0): {'Chemistry': 11},\n  datetime(2023, 8, 31, 0, 0): {'Chemistry': 10},\n  datetime(2023, 9, 1, 0, 0): {'Chemistry': 6, 'Physics': 1},\n  datetime(2023, 9, 2, 0, 0): {'Chemistry': 10, 'Physics': 0},\n  datetime(2023, 9, 3, 0, 0): {'Chemistry': 8, 'Physics': 3},\n  datetime(2023, 9, 4, 0, 0): {'Chemistry': 1,\n   'Physics': 4,\n   'Maths': 2},\n  datetime(2023, 9, 5, 0, 0): {'Chemistry': 8, 'Physics': 0},\n  datetime(2023, 9, 6, 0, 0): {'Chemistry': 5,\n   'Physics': 5,\n   'Maths': 1},\n  datetime(2023, 9, 7, 0, 0): {'Chemistry': 6, 'Physics': 1},\n  datetime(2023, 9, 8, 0, 0): {'Chemistry': 6, 'Physics': 5},\n  datetime(2023, 9, 9, 0, 0): {'Chemistry': 11, 'Physics': 1},\n  datetime(2023, 9, 10, 0, 0): {'Physics': 'Exam Day'},\n  datetime(2023, 9, 11, 0, 0): {'Chemistry': 11},\n  datetime(2023, 9, 12, 0, 0): {'Chemistry': 'Exam Day'},\n  datetime(2023, 9, 13, 0, 0): {'Maths': 3},\n  datetime(2023, 9, 14, 0, 0): {'Maths': 2},\n  datetime(2023, 9, 15, 0, 0): {'Maths': 2},\n  datetime(2023, 9, 16, 0, 0): {'Maths': 4},\n  datetime(2023, 9, 17, 0, 0): {'Maths': 5},\n  datetime(2023, 9, 18, 0, 0): {'Maths': 9},\n  datetime(2023, 9, 19, 0, 0): {'Maths': 4},\n  datetime(2023, 9, 20, 0, 0): {'Maths': 7},\n  datetime(2023, 9, 21, 0, 0): {'Maths': 4},\n  datetime(2023, 9, 22, 0, 0): {'Maths': 0},\n  datetime(2023, 9, 23, 0, 0): {'Maths': 6},\n  datetime(2023, 9, 24, 0, 0): {'Maths': 12},\n  datetime(2023, 9, 25, 0, 0): {'Maths': 3},\n  datetime(2023, 9, 26, 0, 0): {'Maths': 10},\n  datetime(2023, 9, 27, 0, 0): {'Maths': 8},\n  datetime(2023, 9, 28, 0, 0): {'Maths': 1},\n  datetime(2023, 9, 29, 0, 0): {'Maths': 8},\n  datetime(2023, 9, 30, 0, 0): {'Maths': 4},\n  datetime(2023, 10, 1, 0, 0): {'Maths': 4},\n  datetime(2023, 10, 2, 0, 0): {'Maths': 7},\n  datetime(2023, 10, 3, 0, 0): {'Maths': 5},\n  datetime(2023, 10, 4, 0, 0): {'Maths': 2},\n  datetime(2023, 10, 5, 0, 0): {'Maths': 2},\n  datetime(2023, 10, 6, 0, 0): {'Maths': 7},\n  datetime(2023, 10, 7, 0, 0): {'Maths': 5},\n  datetime(2023, 10, 8, 0, 0): {'Maths': 2},\n  datetime(2023, 10, 9, 0, 0): {'Maths': 2},\n  datetime(2023, 10, 10, 0, 0): {'Maths': 7},\n  datetime(2023, 10, 11, 0, 0): {'Maths': 9},\n  datetime(2023, 10, 12, 0, 0): {'Maths': 2},\n  datetime(2023, 10, 13, 0, 0): {'Maths': 0},\n  datetime(2023, 10, 14, 0, 0): {'Maths': 4},\n  datetime(2023, 10, 15, 0, 0): {'Maths': 4},\n  datetime(2023, 10, 16, 0, 0): {'Maths': 3},\n  datetime(2023, 10, 17, 0, 0): {'Maths': 1},\n  datetime(2023, 10, 18, 0, 0): {'Maths': 6},\n  datetime(2023, 10, 19, 0, 0): {'Maths': 12},\n  datetime(2023, 10, 20, 0, 0): {'Maths': 0},\n  datetime(2023, 10, 21, 0, 0): {'Maths': 9},\n  datetime(2023, 10, 22, 0, 0): {'Maths': 8},\n  datetime(2023, 10, 23, 0, 0): {'Maths': 1},\n  datetime(2023, 10, 24, 0, 0): {'Maths': 6},\n  datetime(2023, 10, 25, 0, 0): {'Maths': 8},\n  datetime(2023, 10, 26, 0, 0): {'Maths': 8},\n  datetime(2023, 10, 27, 0, 0): {'Maths': 7},\n  datetime(2023, 10, 28, 0, 0): {'Maths': 'Exam Day'},\n  datetime(2023, 8, 14, 0, 0): {'Maths': 9, 'Chemistry': 1}}",
      "metadata": {
        "trusted": true
      },
      "execution_count": 81,
      "outputs": [],
      "id": "77c85a35-3c94-4c99-bea4-c790ab0454f6"
    },
    {
      "cell_type": "code",
      "source": "sum(sum(hours for hours in days.values() if hours != 'Exam Day') for days in schedule.values()) #This is what we want to minimize",
      "metadata": {
        "trusted": true
      },
      "execution_count": 84,
      "outputs": [
        {
          "execution_count": 84,
          "output_type": "execute_result",
          "data": {
            "text/plain": "459"
          },
          "metadata": {}
        }
      ],
      "id": "5fc1a05b-9f67-4acc-9478-4af8727113e0"
    },
    {
      "cell_type": "code",
      "source": "objective_function(schedule,subjects)",
      "metadata": {
        "trusted": true
      },
      "execution_count": 85,
      "outputs": [
        {
          "execution_count": 85,
          "output_type": "execute_result",
          "data": {
            "text/plain": "459"
          },
          "metadata": {}
        }
      ],
      "id": "d0b92849-7e39-48ce-a04b-0cac01cec158"
    },
    {
      "cell_type": "code",
      "source": "",
      "metadata": {},
      "execution_count": null,
      "outputs": [],
      "id": "3feeba7a-f2d7-4e25-a7f7-24938d81852e"
    }
  ]
}